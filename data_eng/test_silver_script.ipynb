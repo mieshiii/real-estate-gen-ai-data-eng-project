{
 "cells": [
  {
   "cell_type": "code",
   "execution_count": null,
   "metadata": {},
   "outputs": [],
   "source": [
    "from pyspark.sql import SparkSession\n",
    "\n",
    "spark = SparkSession.builder.appName(\"Silver\").getOrCreate()\n",
    "\n",
    "#read bronze file \n",
    "df = spark.read.parquet('abfss://parquet@deltaformatdemostorage.dfs.core.windows.net/employees')"
   ]
  },
  {
   "cell_type": "code",
   "execution_count": null,
   "metadata": {},
   "outputs": [],
   "source": [
    "#do cleaning and dedup\n",
    "df_cleaned = df\n",
    "\n",
    "df_deduped = df_cleaned\n",
    "\n",
    "df_final = df_deduped\n",
    "\n",
    "#test silver parquet file and url\n",
    "df_final.write.parquet('abfss://parquet@deltaformatdemostorage.dfs.core.windows.net/employees_silver')\n",
    "\n",
    "\n"
   ]
  }
 ],
 "metadata": {
  "language_info": {
   "name": "python"
  }
 },
 "nbformat": 4,
 "nbformat_minor": 2
}
