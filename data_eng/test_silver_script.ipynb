{
 "cells": [
  {
   "cell_type": "code",
   "execution_count": null,
   "metadata": {},
   "outputs": [],
   "source": [
    "from pyspark.sql import SparkSession\n",
    "from pyspark.sql.functions import row_number, monotonically_increasing_id, current_date, current_timestamp\n",
    "from pyspark.sql import Window\n",
    "\n",
    "spark = SparkSession.builder.appName(\"Silver\").getOrCreate()\n",
    "\n",
    "#read bronze file \n",
    "df = spark.read.parquet('abfss://parquet@deltaformatdemostorage.dfs.core.windows.net/employees')"
   ]
  },
  {
   "cell_type": "code",
   "execution_count": null,
   "metadata": {},
   "outputs": [],
   "source": [
    "#add index and date ingested to the original df\n",
    "df = df.withColumn(\n",
    "        \"index\",\n",
    "        row_number().over(Window.orderBy(monotonically_increasing_id()))-1\n",
    "      )\n",
    "\n",
    "df = df.withColumn(\n",
    " \"date_ingested\", current_date()\n",
    ")\n",
    "df = df.withColumn(\n",
    "  \"time_of_ingestion\", current_timestamp()\n",
    ")\n"
   ]
  },
  {
   "cell_type": "code",
   "execution_count": null,
   "metadata": {},
   "outputs": [],
   "source": [
    "#do cleaning and dedup\n",
    "df_cleaned = df.withColumn(\"Price\", df[\"Price\"].cast(\"int\"))\n",
    "df_cleaned = df.withColumn(\"Building Size\", df[\"Building Size\"].cast(\"int\"))\n",
    "df_cleaned = df.withColumn(\"Land Size\", df[\"Land Size\"].cast(\"int\"))\n",
    "\n",
    "df_cleaned = df_cleaned \\\n",
    "    .withColumnRenamed(\"Price\", \"price\") \\\n",
    "    .withColumnRenamed(\"Category\", \"category\") \\\n",
    "    .withColumnRenamed(\"Subcategory\", \"subcategory\") \\\n",
    "    .withColumnRenamed(\"Year Built\", \"year_built\") \\\n",
    "    .withColumnRenamed(\"Furnished\", \"furnished\") \\\n",
    "    .withColumnRenamed(\"Bedrooms\", \"bedrooms\") \\\n",
    "    .withColumnRenamed(\"Building Size\", \"building_sizes\") \\\n",
    "    .withColumnRenamed(\"Land Size\", \"land_sizes\") \\\n",
    "    .withColumnRenamed(\"Subdivision Name\", \"subdivision_names\") \\\n",
    "    .withColumnRenamed(\"SKU\", \"sku\") \\\n",
    "    .withColumnRenamed(\"Geo Point\", \"geo_points\") \\\n",
    "    .withColumnRenamed(\"New Development\", \"new_development\") \\\n",
    "    .withColumnRenamed(\"Price\", \"price\") \\\n",
    "    .withColumnRenamed(\"Price\", \"price\")\n",
    "\n",
    "\n",
    "df_deduped = df_cleaned.dropDuplicates([\"SKU\"])\n",
    "\n",
    "df_final = df_deduped\n",
    "\n",
    "#test silver parquet file and url\n",
    "df_final.write.parquet('abfss://parquet@deltaformatdemostorage.dfs.core.windows.net/employees_silver')\n",
    "\n",
    "\n"
   ]
  }
 ],
 "metadata": {
  "language_info": {
   "name": "python"
  }
 },
 "nbformat": 4,
 "nbformat_minor": 2
}
